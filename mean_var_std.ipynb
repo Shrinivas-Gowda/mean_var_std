{
 "cells": [
  {
   "cell_type": "code",
   "execution_count": 1,
   "id": "2a9eb989-6f90-4e8f-a83d-b173a4db227c",
   "metadata": {},
   "outputs": [],
   "source": []
  },
  {
   "cell_type": "code",
   "execution_count": 40,
   "id": "b0ac3a05-aa90-4db2-bc13-8daefded0dad",
   "metadata": {},
   "outputs": [
    {
     "data": {
      "text/plain": [
       "{'Mean': [array([3., 4., 5.]), array([1., 4., 7.]), 4.0],\n",
       " 'variance': [array([6.        , 6.        , 8.22222222]),\n",
       "  array([0.66666667, 0.66666667, 1.55555556]),\n",
       "  7.65432098765432],\n",
       " 'standard deviation': [array([2.44948974, 2.44948974, 2.86744176]),\n",
       "  array([0.81649658, 0.81649658, 1.24721913]),\n",
       "  2.7666443551086073],\n",
       " 'max': [array([6, 7, 9]), array([2, 5, 9]), 9],\n",
       " 'min': [array([0, 1, 2]), array([0, 3, 6]), 0],\n",
       " 'sum': [array([ 9, 12, 16]), array([ 3, 12, 22]), 37]}"
      ]
     },
     "execution_count": 40,
     "metadata": {},
     "output_type": "execute_result"
    }
   ],
   "source": [
    "import pandas as pd\n",
    "import numpy as np\n",
    "\n",
    "def calculate(l):\n",
    "\n",
    "    if len(l)==9:\n",
    "        my_array=np.array(l).reshape([3,3])\n",
    "        d={'Mean':[my_array.mean(0).round(),my_array.mean(1).round(),my_array.mean().round()],\n",
    "          'variance':[my_array.var(0),my_array.var(1),my_array.var()],\n",
    "          'standard deviation':[my_array.std(0),my_array.std(1),my_array.std()],\n",
    "          'max':[my_array.max(0),my_array.max(1),my_array.max()],\n",
    "          'min':[my_array.min(0),my_array.min(1),my_array.min()],\n",
    "          'sum':[my_array.sum(0),my_array.sum(1),my_array.sum()]}\n",
    "        return d\n",
    "    else:\n",
    "        raise ValueError('List should contain nine digits')\n",
    "\n",
    "calculate([0,1,2,3,4,5,6,7,9])"
   ]
  },
  {
   "cell_type": "code",
   "execution_count": null,
   "id": "18cc095d-2eba-48bf-9e69-a4ad169734eb",
   "metadata": {},
   "outputs": [],
   "source": []
  },
  {
   "cell_type": "code",
   "execution_count": null,
   "id": "ac38c087-c94d-4716-9bd8-bd1137b3b0a3",
   "metadata": {},
   "outputs": [],
   "source": []
  }
 ],
 "metadata": {
  "kernelspec": {
   "display_name": "Python 3 (ipykernel)",
   "language": "python",
   "name": "python3"
  },
  "language_info": {
   "codemirror_mode": {
    "name": "ipython",
    "version": 3
   },
   "file_extension": ".py",
   "mimetype": "text/x-python",
   "name": "python",
   "nbconvert_exporter": "python",
   "pygments_lexer": "ipython3",
   "version": "3.9.13"
  }
 },
 "nbformat": 4,
 "nbformat_minor": 5
}
